{
 "cells": [
  {
   "cell_type": "markdown",
   "id": "ab40e5d7",
   "metadata": {},
   "source": [
    "# Simple Linear Regression with Sklearn"
   ]
  },
  {
   "cell_type": "markdown",
   "id": "027fb669",
   "metadata": {},
   "source": [
    "Real estate is one of those examples that every regression course goes through as it is extremely easy to understand and there is a (almost always) certain causal relationship to be found.\n",
    "\n",
    "The data is located in the file: 'real_estate_price_size.csv'.\n",
    "I am going to create a simple linear regression using the data above\n",
    "\n",
    "Objectives:\n",
    "Create a scatter plot (with or without a regression line)\n",
    "Calculate the R-squared\n",
    "Display the intercept and coefficient(s)\n",
    "Using the model make a prediction about an apartment with size 750 sq.ft.\n",
    "Note: In this exercise, the dependent variable is 'price', while the independent variable is 'size'."
   ]
  },
  {
   "cell_type": "code",
   "execution_count": null,
   "id": "3c8b43b9",
   "metadata": {},
   "outputs": [],
   "source": [
    "# For this project, we will need NumPy, pandas, matplotlib and seaborn\n",
    "import numpy as np\n",
    "import pandas as pd\n",
    "import matplotlib.pyplot as plt\n",
    "import seaborn as sns\n",
    "sns.set()\n",
    "\n",
    "# and of course the actual regression (machine learning) module\n",
    "from sklearn.linear_model import LinearRegression"
   ]
  },
  {
   "cell_type": "markdown",
   "id": "f81669a1",
   "metadata": {},
   "source": [
    "# Loading the data"
   ]
  },
  {
   "cell_type": "code",
   "execution_count": null,
   "id": "39bbad51",
   "metadata": {},
   "outputs": [],
   "source": [
    "# We start by loading the data\n",
    "data = pd.read_csv(r'C:\\Users\\HP\\Downloads\\GetFreeCourses.Co-Udemy-The Data Science Course 2022 Complete Data Science Bootcamp\\34 - Advanced Statistical Methods - Linear Regression with sklearn\\29588378-real-estate-price-size-year.csv')\n",
    "\n",
    "# Let's explore the top 5 rows of the df\n",
    "data.head()"
   ]
  },
  {
   "cell_type": "markdown",
   "id": "ecb8e676",
   "metadata": {},
   "source": [
    "# To Create the regression"
   ]
  },
  {
   "cell_type": "markdown",
   "id": "f2285192",
   "metadata": {},
   "source": [
    "## We declare the dependent and independent variables"
   ]
  },
  {
   "cell_type": "code",
   "execution_count": null,
   "id": "13d13619",
   "metadata": {},
   "outputs": [],
   "source": [
    "# There is a single independent variable: 'SAT'\n",
    "x = data['size']\n",
    "\n",
    "# and a single depended variable: 'GPA'\n",
    "y = data['price']\n",
    "# Often it is useful to check the shapes of the features\n",
    "x.shape"
   ]
  },
  {
   "cell_type": "code",
   "execution_count": null,
   "id": "d4f167c8",
   "metadata": {},
   "outputs": [],
   "source": [
    "y.shape\n"
   ]
  },
  {
   "cell_type": "code",
   "execution_count": null,
   "id": "cbe5f278",
   "metadata": {},
   "outputs": [],
   "source": [
    "# In order to feed x to sklearn, it should be a 2D array (a matrix)\n",
    "# Therefore, we must reshape it \n",
    "# Note that this will not be needed when we've got more than 1 feature (as the inputs will be a 2D array by default)\n",
    "\n",
    "# x_matrix = x.values.reshape(84,1)\n",
    "x_matrix = x.values.reshape(-1,1)\n",
    "y_matrix = y.values.reshape(-1,1)\n",
    "\n",
    "# Check the shape just in case\n",
    "x_matrix.shape\n",
    "y_matrix.shape"
   ]
  },
  {
   "cell_type": "markdown",
   "id": "55896686",
   "metadata": {},
   "source": [
    "# Regression"
   ]
  },
  {
   "cell_type": "code",
   "execution_count": null,
   "id": "ad730534",
   "metadata": {},
   "outputs": [],
   "source": [
    "# We start by creating a linear regression object\n",
    "reg = LinearRegression()"
   ]
  },
  {
   "cell_type": "code",
   "execution_count": null,
   "id": "0a1c6088",
   "metadata": {},
   "outputs": [],
   "source": [
    "# The whole learning process boils down to fitting the regression\n",
    "# Note that the first argument is the independent variable, while the second - the dependent (unlike with StatsModels)\n",
    "reg.fit(x_matrix,y_matrix)"
   ]
  },
  {
   "cell_type": "markdown",
   "id": "3550eb26",
   "metadata": {},
   "source": [
    "# R-Squared"
   ]
  },
  {
   "cell_type": "code",
   "execution_count": null,
   "id": "72372883",
   "metadata": {},
   "outputs": [],
   "source": [
    "# To get the R-squared in sklearn we must call the appropriate method\n",
    "reg.score(x_matrix,y)"
   ]
  },
  {
   "cell_type": "markdown",
   "id": "f4dc2b29",
   "metadata": {},
   "source": [
    "# Coefficients"
   ]
  },
  {
   "cell_type": "code",
   "execution_count": null,
   "id": "4fdafd81",
   "metadata": {},
   "outputs": [],
   "source": [
    "# Getting the coefficients of the regression\n",
    "# Note that the output is an array, as we usually expect several coefficients\n",
    "reg.coef_"
   ]
  },
  {
   "cell_type": "markdown",
   "id": "1e68824e",
   "metadata": {},
   "source": [
    "# Intercept"
   ]
  },
  {
   "cell_type": "code",
   "execution_count": null,
   "id": "13e3403f",
   "metadata": {},
   "outputs": [],
   "source": [
    "# Getting the intercept of the regression\n",
    "# Note that the result is a float as we usually expect a single value\n",
    "reg.intercept_"
   ]
  },
  {
   "cell_type": "markdown",
   "id": "426e22dd",
   "metadata": {},
   "source": [
    "# Making Predictions"
   ]
  },
  {
   "cell_type": "code",
   "execution_count": null,
   "id": "1dd0c529",
   "metadata": {},
   "outputs": [],
   "source": [
    "# There is a dedicated method should we want to predict values\n",
    "# Note that the result is an array, as we can predict more than one value at a time\n",
    "reg.predict([[750]])"
   ]
  },
  {
   "cell_type": "code",
   "execution_count": null,
   "id": "c0515171",
   "metadata": {},
   "outputs": [],
   "source": []
  },
  {
   "cell_type": "code",
   "execution_count": null,
   "id": "3c0bcf2d",
   "metadata": {},
   "outputs": [],
   "source": []
  }
 ],
 "metadata": {
  "kernelspec": {
   "display_name": "Python 3.10.6 64-bit (windows store)",
   "language": "python",
   "name": "python3"
  },
  "language_info": {
   "codemirror_mode": {
    "name": "ipython",
    "version": 3
   },
   "file_extension": ".py",
   "mimetype": "text/x-python",
   "name": "python",
   "nbconvert_exporter": "python",
   "pygments_lexer": "ipython3",
   "version": "3.10.6"
  },
  "vscode": {
   "interpreter": {
    "hash": "486e0d5a79acdbfffd563ee7a67a93a5017bd2a4f66495483a69f0245c8a4a6c"
   }
  }
 },
 "nbformat": 4,
 "nbformat_minor": 5
}
