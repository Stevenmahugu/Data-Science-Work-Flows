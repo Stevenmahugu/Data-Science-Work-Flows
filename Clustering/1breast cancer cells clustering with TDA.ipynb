{
 "cells": [
  {
   "cell_type": "code",
   "execution_count": 2,
   "metadata": {},
   "outputs": [],
   "source": [
    "import sys\n",
    "try:\n",
    "    import pandas as pd\n",
    "except ImportError as e:\n",
    "    print(\"pandas is required for this example. Please install with conda or pip  and then try again.\")\n",
    "    sys.exit()\n",
    "\n",
    "import numpy as np\n",
    "import sklearn\n",
    "from sklearn import ensemble\n",
    "import kmapper as km\n",
    "from kmapper.plotlyviz import *\n",
    "\n",
    "import warnings\n",
    "warnings.filterwarnings(\"ignore\")"
   ]
  },
  {
   "cell_type": "code",
   "execution_count": 3,
   "metadata": {},
   "outputs": [],
   "source": [
    "import plotly.graph_objs as go\n",
    "from ipywidgets import (HBox, VBox)"
   ]
  },
  {
   "cell_type": "code",
   "execution_count": null,
   "metadata": {},
   "outputs": [],
   "source": [
    "# Data - the Wisconsin Breast Cancer Dataset\n",
    "# https://www.kaggle.com/uciml/breast-cancer-wisconsin-data\n",
    "df = pd.read_csv(\"data.csv\")\n",
    "feature_names = [c for c in df.columns if c not in [\"id\", \"diagnosis\"]]\n",
    "df[\"diagnosis\"] = df[\"diagnosis\"].apply(lambda x: 1 if x == \"M\" else 0)\n",
    "X = np.array(df[feature_names].fillna(0))\n",
    "y = np.array(df[\"diagnosis\"])\n",
    "\n",
    "# Create a custom 1-D lens with Isolation Forest\n",
    "model = ensemble.IsolationForest(random_state=1729)\n",
    "model.fit(X)\n",
    "lens1 = model.decision_function(X).reshape((X.shape[0], 1))\n",
    "\n",
    "# Create another 1-D lens with L2-norm\n",
    "mapper = km.KeplerMapper(verbose=0)\n",
    "lens2 = mapper.fit_transform(X, projection=\"l2norm\")\n",
    "\n",
    "# Combine both lenses to get a 2-D [Isolation Forest, L^2-Norm] lens\n",
    "lens = np.c_[lens1, lens2]\n",
    "\n",
    "# Define the simplicial complex\n",
    "scomplex = mapper.map(lens,\n",
    "                      X,\n",
    "                      cover = km.Cover(n_cubes = 15, \n",
    "                                       perc_overlap=0.7),\n",
    "                      clusterer=sklearn.cluster.KMeans(n_clusters=2,\n",
    "                                                       random_state=3471))"
   ]
  }
 ],
 "metadata": {
  "kernelspec": {
   "display_name": "Python 3.10.6 64-bit (windows store)",
   "language": "python",
   "name": "python3"
  },
  "language_info": {
   "codemirror_mode": {
    "name": "ipython",
    "version": 3
   },
   "file_extension": ".py",
   "mimetype": "text/x-python",
   "name": "python",
   "nbconvert_exporter": "python",
   "pygments_lexer": "ipython3",
   "version": "3.10.6"
  },
  "orig_nbformat": 4,
  "vscode": {
   "interpreter": {
    "hash": "486e0d5a79acdbfffd563ee7a67a93a5017bd2a4f66495483a69f0245c8a4a6c"
   }
  }
 },
 "nbformat": 4,
 "nbformat_minor": 2
}
